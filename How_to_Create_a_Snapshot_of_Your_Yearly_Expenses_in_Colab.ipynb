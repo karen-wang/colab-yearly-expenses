{
  "nbformat": 4,
  "nbformat_minor": 0,
  "metadata": {
    "colab": {
      "provenance": [],
      "collapsed_sections": [
        "9mSZhsurwFTE",
        "0ou6nvU5v_Ou",
        "J6B2kR1RwJwf",
        "ECOcd3r7wRFR",
        "koo--P32wYEq",
        "S15-4HTDwakz",
        "Yggxvb4pyvUC",
        "VSXF6sN60I95"
      ],
      "toc_visible": true,
      "mount_file_id": "17hBz6X8lXXurQcyH9lidiFwFDelAKu3f",
      "authorship_tag": "ABX9TyNsJQqmzRUL+HedLv9Qj+nj",
      "include_colab_link": true
    },
    "kernelspec": {
      "name": "python3",
      "display_name": "Python 3"
    }
  },
  "cells": [
    {
      "cell_type": "markdown",
      "metadata": {
        "id": "view-in-github",
        "colab_type": "text"
      },
      "source": [
        "<a href=\"https://colab.research.google.com/github/karen-wang/colab-yearly-expenses/blob/main/How_to_Create_a_Snapshot_of_Your_Yearly_Expenses_in_Colab.ipynb\" target=\"_parent\"><img src=\"https://colab.research.google.com/assets/colab-badge.svg\" alt=\"Open In Colab\"/></a>"
      ]
    },
    {
      "cell_type": "markdown",
      "metadata": {
        "id": "AYIi-bYavjav"
      },
      "source": [
        "# Introduction\n",
        "**Karen Y. Wang**\n",
        "\n",
        "As a personal finance nut, I’ve made it a habit to analyze my expenses at the end of every year. At first, I started doing this because I wanted to identify areas where I could cut down on my spending. But, this exercise also helped me see areas where I *enjoyed* spending money—things like gifts, vacations, and nice meals with family and friends. This tutorial will show you how to use Colab to create a snapshot of your yearly expenses. Hopefully, it will also help you gain a better understanding of your relationship to your spending habits."
      ]
    },
    {
      "cell_type": "markdown",
      "source": [
        "## About Colab\n",
        "Google Colaboratory, or Colab for short, is a free service that allows you to write and execute Python code in the browser. Code snippets and text elements are organized into Colab notebooks, which can be read as documents and shared with others."
      ],
      "metadata": {
        "id": "myXqXTSbRfrv"
      }
    },
    {
      "cell_type": "markdown",
      "source": [
        "# Before you begin\n",
        "First, you will need to login to your online bank account and download your yearly transactions in CSV format. Next, you’ll want to upload the CSV file into Google Drive. For this tutorial we will be using my spending data from 2019.\n",
        "\n"
      ],
      "metadata": {
        "id": "PAskwq38Wz7C"
      }
    },
    {
      "cell_type": "markdown",
      "metadata": {
        "id": "9mSZhsurwFTE"
      },
      "source": [
        "# Setup"
      ]
    },
    {
      "cell_type": "markdown",
      "source": [
        "First, let's read the data from the CSV file. To do this we will be using `pandas`, a Python library used for doing data analysis. Let's import the library and name it `pd` for short. "
      ],
      "metadata": {
        "id": "rdJ1GIJKXNBl"
      }
    },
    {
      "cell_type": "code",
      "metadata": {
        "id": "T5w36WFEGau0"
      },
      "source": [
        "import pandas as pd"
      ],
      "execution_count": 3,
      "outputs": []
    },
    {
      "cell_type": "markdown",
      "source": [
        "Next, let's load the CSV file from Drive."
      ],
      "metadata": {
        "id": "I53F5fNwXuLM"
      }
    },
    {
      "cell_type": "code",
      "metadata": {
        "id": "n2IJ9mfPHJQ6",
        "colab": {
          "base_uri": "https://localhost:8080/"
        },
        "outputId": "4fd14431-7c74-46d2-9fff-534960960ea5"
      },
      "source": [
        "from google.colab import drive\n",
        "drive.mount('/content/drive')"
      ],
      "execution_count": 4,
      "outputs": [
        {
          "output_type": "stream",
          "name": "stdout",
          "text": [
            "Mounted at /content/drive\n"
          ]
        }
      ]
    },
    {
      "cell_type": "markdown",
      "source": [
        "Now let's read the CSV file contents into a `pandas` table called `transactions`."
      ],
      "metadata": {
        "id": "T3vc512fX3fn"
      }
    },
    {
      "cell_type": "code",
      "metadata": {
        "id": "MCt5EGx9HKsI"
      },
      "source": [
        "transactions = pd.read_csv('/content/drive/My Drive/finance/2020-06-13_transaction_download.csv')"
      ],
      "execution_count": 23,
      "outputs": []
    },
    {
      "cell_type": "markdown",
      "source": [
        "Now let's inspect the table contents. This can be done by calling `transactions.head()`, which lists the first few rows."
      ],
      "metadata": {
        "id": "K4X9lTrnYjhh"
      }
    },
    {
      "cell_type": "code",
      "metadata": {
        "id": "yIQ6g1pyHWGk",
        "colab": {
          "base_uri": "https://localhost:8080/",
          "height": 302
        },
        "outputId": "42eddf53-7a9f-430d-94d8-cadc8e6beac2"
      },
      "source": [
        "transactions.head()"
      ],
      "execution_count": 25,
      "outputs": [
        {
          "output_type": "execute_result",
          "data": {
            "text/plain": [
              "  Transaction Date Posted Date  Card No.                Description  \\\n",
              "0       2019-12-28  2019-12-30      4704             UINPIBOTSUKUSU   \n",
              "1       2019-12-26  2019-12-28      4704                     CHEESE   \n",
              "2       2019-12-27  2019-12-28      4704              SQ*BASEHAKUBA   \n",
              "3       2019-12-25  2019-12-27      4704  RAKUTENPAY EMBLEMHOSTELNI   \n",
              "4       2019-12-26  2019-12-27      4704                 Zappos.com   \n",
              "\n",
              "         Category   Debit  Credit  \n",
              "0  Other Services   94.62     NaN  \n",
              "1     Merchandise   13.71     NaN  \n",
              "2          Dining    8.23     NaN  \n",
              "3         Lodging  106.29     NaN  \n",
              "4     Merchandise     NaN  119.03  "
            ],
            "text/html": [
              "\n",
              "  <div id=\"df-cb5a4230-3a06-4162-8adc-cfcee26d0071\">\n",
              "    <div class=\"colab-df-container\">\n",
              "      <div>\n",
              "<style scoped>\n",
              "    .dataframe tbody tr th:only-of-type {\n",
              "        vertical-align: middle;\n",
              "    }\n",
              "\n",
              "    .dataframe tbody tr th {\n",
              "        vertical-align: top;\n",
              "    }\n",
              "\n",
              "    .dataframe thead th {\n",
              "        text-align: right;\n",
              "    }\n",
              "</style>\n",
              "<table border=\"1\" class=\"dataframe\">\n",
              "  <thead>\n",
              "    <tr style=\"text-align: right;\">\n",
              "      <th></th>\n",
              "      <th>Transaction Date</th>\n",
              "      <th>Posted Date</th>\n",
              "      <th>Card No.</th>\n",
              "      <th>Description</th>\n",
              "      <th>Category</th>\n",
              "      <th>Debit</th>\n",
              "      <th>Credit</th>\n",
              "    </tr>\n",
              "  </thead>\n",
              "  <tbody>\n",
              "    <tr>\n",
              "      <th>0</th>\n",
              "      <td>2019-12-28</td>\n",
              "      <td>2019-12-30</td>\n",
              "      <td>4704</td>\n",
              "      <td>UINPIBOTSUKUSU</td>\n",
              "      <td>Other Services</td>\n",
              "      <td>94.62</td>\n",
              "      <td>NaN</td>\n",
              "    </tr>\n",
              "    <tr>\n",
              "      <th>1</th>\n",
              "      <td>2019-12-26</td>\n",
              "      <td>2019-12-28</td>\n",
              "      <td>4704</td>\n",
              "      <td>CHEESE</td>\n",
              "      <td>Merchandise</td>\n",
              "      <td>13.71</td>\n",
              "      <td>NaN</td>\n",
              "    </tr>\n",
              "    <tr>\n",
              "      <th>2</th>\n",
              "      <td>2019-12-27</td>\n",
              "      <td>2019-12-28</td>\n",
              "      <td>4704</td>\n",
              "      <td>SQ*BASEHAKUBA</td>\n",
              "      <td>Dining</td>\n",
              "      <td>8.23</td>\n",
              "      <td>NaN</td>\n",
              "    </tr>\n",
              "    <tr>\n",
              "      <th>3</th>\n",
              "      <td>2019-12-25</td>\n",
              "      <td>2019-12-27</td>\n",
              "      <td>4704</td>\n",
              "      <td>RAKUTENPAY EMBLEMHOSTELNI</td>\n",
              "      <td>Lodging</td>\n",
              "      <td>106.29</td>\n",
              "      <td>NaN</td>\n",
              "    </tr>\n",
              "    <tr>\n",
              "      <th>4</th>\n",
              "      <td>2019-12-26</td>\n",
              "      <td>2019-12-27</td>\n",
              "      <td>4704</td>\n",
              "      <td>Zappos.com</td>\n",
              "      <td>Merchandise</td>\n",
              "      <td>NaN</td>\n",
              "      <td>119.03</td>\n",
              "    </tr>\n",
              "  </tbody>\n",
              "</table>\n",
              "</div>\n",
              "      <button class=\"colab-df-convert\" onclick=\"convertToInteractive('df-cb5a4230-3a06-4162-8adc-cfcee26d0071')\"\n",
              "              title=\"Convert this dataframe to an interactive table.\"\n",
              "              style=\"display:none;\">\n",
              "        \n",
              "  <svg xmlns=\"http://www.w3.org/2000/svg\" height=\"24px\"viewBox=\"0 0 24 24\"\n",
              "       width=\"24px\">\n",
              "    <path d=\"M0 0h24v24H0V0z\" fill=\"none\"/>\n",
              "    <path d=\"M18.56 5.44l.94 2.06.94-2.06 2.06-.94-2.06-.94-.94-2.06-.94 2.06-2.06.94zm-11 1L8.5 8.5l.94-2.06 2.06-.94-2.06-.94L8.5 2.5l-.94 2.06-2.06.94zm10 10l.94 2.06.94-2.06 2.06-.94-2.06-.94-.94-2.06-.94 2.06-2.06.94z\"/><path d=\"M17.41 7.96l-1.37-1.37c-.4-.4-.92-.59-1.43-.59-.52 0-1.04.2-1.43.59L10.3 9.45l-7.72 7.72c-.78.78-.78 2.05 0 2.83L4 21.41c.39.39.9.59 1.41.59.51 0 1.02-.2 1.41-.59l7.78-7.78 2.81-2.81c.8-.78.8-2.07 0-2.86zM5.41 20L4 18.59l7.72-7.72 1.47 1.35L5.41 20z\"/>\n",
              "  </svg>\n",
              "      </button>\n",
              "      \n",
              "  <style>\n",
              "    .colab-df-container {\n",
              "      display:flex;\n",
              "      flex-wrap:wrap;\n",
              "      gap: 12px;\n",
              "    }\n",
              "\n",
              "    .colab-df-convert {\n",
              "      background-color: #E8F0FE;\n",
              "      border: none;\n",
              "      border-radius: 50%;\n",
              "      cursor: pointer;\n",
              "      display: none;\n",
              "      fill: #1967D2;\n",
              "      height: 32px;\n",
              "      padding: 0 0 0 0;\n",
              "      width: 32px;\n",
              "    }\n",
              "\n",
              "    .colab-df-convert:hover {\n",
              "      background-color: #E2EBFA;\n",
              "      box-shadow: 0px 1px 2px rgba(60, 64, 67, 0.3), 0px 1px 3px 1px rgba(60, 64, 67, 0.15);\n",
              "      fill: #174EA6;\n",
              "    }\n",
              "\n",
              "    [theme=dark] .colab-df-convert {\n",
              "      background-color: #3B4455;\n",
              "      fill: #D2E3FC;\n",
              "    }\n",
              "\n",
              "    [theme=dark] .colab-df-convert:hover {\n",
              "      background-color: #434B5C;\n",
              "      box-shadow: 0px 1px 3px 1px rgba(0, 0, 0, 0.15);\n",
              "      filter: drop-shadow(0px 1px 2px rgba(0, 0, 0, 0.3));\n",
              "      fill: #FFFFFF;\n",
              "    }\n",
              "  </style>\n",
              "\n",
              "      <script>\n",
              "        const buttonEl =\n",
              "          document.querySelector('#df-cb5a4230-3a06-4162-8adc-cfcee26d0071 button.colab-df-convert');\n",
              "        buttonEl.style.display =\n",
              "          google.colab.kernel.accessAllowed ? 'block' : 'none';\n",
              "\n",
              "        async function convertToInteractive(key) {\n",
              "          const element = document.querySelector('#df-cb5a4230-3a06-4162-8adc-cfcee26d0071');\n",
              "          const dataTable =\n",
              "            await google.colab.kernel.invokeFunction('convertToInteractive',\n",
              "                                                     [key], {});\n",
              "          if (!dataTable) return;\n",
              "\n",
              "          const docLinkHtml = 'Like what you see? Visit the ' +\n",
              "            '<a target=\"_blank\" href=https://colab.research.google.com/notebooks/data_table.ipynb>data table notebook</a>'\n",
              "            + ' to learn more about interactive tables.';\n",
              "          element.innerHTML = '';\n",
              "          dataTable['output_type'] = 'display_data';\n",
              "          await google.colab.output.renderOutput(dataTable, element);\n",
              "          const docLink = document.createElement('div');\n",
              "          docLink.innerHTML = docLinkHtml;\n",
              "          element.appendChild(docLink);\n",
              "        }\n",
              "      </script>\n",
              "    </div>\n",
              "  </div>\n",
              "  "
            ]
          },
          "metadata": {},
          "execution_count": 25
        }
      ]
    },
    {
      "cell_type": "markdown",
      "source": [
        "Each row lists the details about a transaction. In particular, notice how the `Description` column contains the merchant name, and the `Category` column contains one of a fixed set of category values. Each row also has a value in either the `Debit` or `Credit` column, which indicates whether that transaction was an expense or a refund. For example, on December 26th, I spent \\$13.71 on cheese and got a refund of \\$119.03 from Zappos.\n",
        "\n",
        "You might be wondering what the `NaN` values refer to. `NaN` stands for \"Not a Number,\" and appears in the place of an undefined numeric value. However, for our purposes you can just ignore them."
      ],
      "metadata": {
        "id": "HVgHAC4BYqiD"
      }
    },
    {
      "cell_type": "markdown",
      "metadata": {
        "id": "0ou6nvU5v_Ou"
      },
      "source": [
        "# Breakdown by category"
      ]
    },
    {
      "cell_type": "markdown",
      "source": [
        "Now, I would like to know where I spent the most money. To accomplish this, we can group our transactions by category. But first, let's get an idea of which categories exist. To do so, we can list the unique values for the `Category` column."
      ],
      "metadata": {
        "id": "anCqfQmmaGS2"
      }
    },
    {
      "cell_type": "code",
      "metadata": {
        "id": "5-GVRz6fJkXV",
        "colab": {
          "base_uri": "https://localhost:8080/"
        },
        "outputId": "6256a44d-99de-49f9-fd74-b7384ac2c274"
      },
      "source": [
        "transactions.Category.unique()"
      ],
      "execution_count": 26,
      "outputs": [
        {
          "output_type": "execute_result",
          "data": {
            "text/plain": [
              "array(['Other Services', 'Merchandise', 'Dining', 'Lodging',\n",
              "       'Other Travel', 'Phone/Cable', 'Gas/Automotive', 'Other',\n",
              "       'Airfare', 'Payment/Credit', 'Health Care', 'Entertainment',\n",
              "       'Professional Services', 'Insurance', 'Internet'], dtype=object)"
            ]
          },
          "metadata": {},
          "execution_count": 26
        }
      ]
    },
    {
      "cell_type": "markdown",
      "source": [
        "Overall, the categories seem to make sense. Notice however that there is a mysterious category called `Payment/Credit`. It turns out this isn't actually a spending category, and is used to label credit card payments. We don't need this information, so let's remove all rows categorized as `Payment/Credit`."
      ],
      "metadata": {
        "id": "6WMaHzp0VJ1y"
      }
    },
    {
      "cell_type": "code",
      "source": [
        "transactions = transactions[transactions.Category != 'Payment/Credit']"
      ],
      "metadata": {
        "id": "D3XG3-E8VeyP"
      },
      "execution_count": 29,
      "outputs": []
    },
    {
      "cell_type": "markdown",
      "source": [
        "Now let's determine the total amount spent for each category. Let’s compute a new table, called `sum`, which will represent the sums of all transactions per category.\n",
        "\n"
      ],
      "metadata": {
        "id": "5FcmMmrqM6hu"
      }
    },
    {
      "cell_type": "code",
      "metadata": {
        "id": "nu1NW_KuK1Dh"
      },
      "source": [
        "sum = transactions.groupby(['Category']).sum()"
      ],
      "execution_count": 30,
      "outputs": []
    },
    {
      "cell_type": "markdown",
      "source": [
        "Let’s examine the `sum` table."
      ],
      "metadata": {
        "id": "h0znR6OqNHrH"
      }
    },
    {
      "cell_type": "code",
      "metadata": {
        "id": "JCyHNsFoMOUD",
        "colab": {
          "base_uri": "https://localhost:8080/",
          "height": 237
        },
        "outputId": "1d56ecc5-10ac-4c2c-f3a5-f1aa9352335a"
      },
      "source": [
        "sum.head()"
      ],
      "execution_count": 31,
      "outputs": [
        {
          "output_type": "execute_result",
          "data": {
            "text/plain": [
              "                Card No.    Debit  Credit\n",
              "Category                                 \n",
              "Airfare            51744  3571.36  257.38\n",
              "Dining           1735776  6586.22    0.00\n",
              "Entertainment     174048  1641.27    0.00\n",
              "Gas/Automotive     28224   346.06    0.00\n",
              "Health Care       211680  2878.26   75.88"
            ],
            "text/html": [
              "\n",
              "  <div id=\"df-49924f8d-807a-4028-b2b5-e7c67c9a4edf\">\n",
              "    <div class=\"colab-df-container\">\n",
              "      <div>\n",
              "<style scoped>\n",
              "    .dataframe tbody tr th:only-of-type {\n",
              "        vertical-align: middle;\n",
              "    }\n",
              "\n",
              "    .dataframe tbody tr th {\n",
              "        vertical-align: top;\n",
              "    }\n",
              "\n",
              "    .dataframe thead th {\n",
              "        text-align: right;\n",
              "    }\n",
              "</style>\n",
              "<table border=\"1\" class=\"dataframe\">\n",
              "  <thead>\n",
              "    <tr style=\"text-align: right;\">\n",
              "      <th></th>\n",
              "      <th>Card No.</th>\n",
              "      <th>Debit</th>\n",
              "      <th>Credit</th>\n",
              "    </tr>\n",
              "    <tr>\n",
              "      <th>Category</th>\n",
              "      <th></th>\n",
              "      <th></th>\n",
              "      <th></th>\n",
              "    </tr>\n",
              "  </thead>\n",
              "  <tbody>\n",
              "    <tr>\n",
              "      <th>Airfare</th>\n",
              "      <td>51744</td>\n",
              "      <td>3571.36</td>\n",
              "      <td>257.38</td>\n",
              "    </tr>\n",
              "    <tr>\n",
              "      <th>Dining</th>\n",
              "      <td>1735776</td>\n",
              "      <td>6586.22</td>\n",
              "      <td>0.00</td>\n",
              "    </tr>\n",
              "    <tr>\n",
              "      <th>Entertainment</th>\n",
              "      <td>174048</td>\n",
              "      <td>1641.27</td>\n",
              "      <td>0.00</td>\n",
              "    </tr>\n",
              "    <tr>\n",
              "      <th>Gas/Automotive</th>\n",
              "      <td>28224</td>\n",
              "      <td>346.06</td>\n",
              "      <td>0.00</td>\n",
              "    </tr>\n",
              "    <tr>\n",
              "      <th>Health Care</th>\n",
              "      <td>211680</td>\n",
              "      <td>2878.26</td>\n",
              "      <td>75.88</td>\n",
              "    </tr>\n",
              "  </tbody>\n",
              "</table>\n",
              "</div>\n",
              "      <button class=\"colab-df-convert\" onclick=\"convertToInteractive('df-49924f8d-807a-4028-b2b5-e7c67c9a4edf')\"\n",
              "              title=\"Convert this dataframe to an interactive table.\"\n",
              "              style=\"display:none;\">\n",
              "        \n",
              "  <svg xmlns=\"http://www.w3.org/2000/svg\" height=\"24px\"viewBox=\"0 0 24 24\"\n",
              "       width=\"24px\">\n",
              "    <path d=\"M0 0h24v24H0V0z\" fill=\"none\"/>\n",
              "    <path d=\"M18.56 5.44l.94 2.06.94-2.06 2.06-.94-2.06-.94-.94-2.06-.94 2.06-2.06.94zm-11 1L8.5 8.5l.94-2.06 2.06-.94-2.06-.94L8.5 2.5l-.94 2.06-2.06.94zm10 10l.94 2.06.94-2.06 2.06-.94-2.06-.94-.94-2.06-.94 2.06-2.06.94z\"/><path d=\"M17.41 7.96l-1.37-1.37c-.4-.4-.92-.59-1.43-.59-.52 0-1.04.2-1.43.59L10.3 9.45l-7.72 7.72c-.78.78-.78 2.05 0 2.83L4 21.41c.39.39.9.59 1.41.59.51 0 1.02-.2 1.41-.59l7.78-7.78 2.81-2.81c.8-.78.8-2.07 0-2.86zM5.41 20L4 18.59l7.72-7.72 1.47 1.35L5.41 20z\"/>\n",
              "  </svg>\n",
              "      </button>\n",
              "      \n",
              "  <style>\n",
              "    .colab-df-container {\n",
              "      display:flex;\n",
              "      flex-wrap:wrap;\n",
              "      gap: 12px;\n",
              "    }\n",
              "\n",
              "    .colab-df-convert {\n",
              "      background-color: #E8F0FE;\n",
              "      border: none;\n",
              "      border-radius: 50%;\n",
              "      cursor: pointer;\n",
              "      display: none;\n",
              "      fill: #1967D2;\n",
              "      height: 32px;\n",
              "      padding: 0 0 0 0;\n",
              "      width: 32px;\n",
              "    }\n",
              "\n",
              "    .colab-df-convert:hover {\n",
              "      background-color: #E2EBFA;\n",
              "      box-shadow: 0px 1px 2px rgba(60, 64, 67, 0.3), 0px 1px 3px 1px rgba(60, 64, 67, 0.15);\n",
              "      fill: #174EA6;\n",
              "    }\n",
              "\n",
              "    [theme=dark] .colab-df-convert {\n",
              "      background-color: #3B4455;\n",
              "      fill: #D2E3FC;\n",
              "    }\n",
              "\n",
              "    [theme=dark] .colab-df-convert:hover {\n",
              "      background-color: #434B5C;\n",
              "      box-shadow: 0px 1px 3px 1px rgba(0, 0, 0, 0.15);\n",
              "      filter: drop-shadow(0px 1px 2px rgba(0, 0, 0, 0.3));\n",
              "      fill: #FFFFFF;\n",
              "    }\n",
              "  </style>\n",
              "\n",
              "      <script>\n",
              "        const buttonEl =\n",
              "          document.querySelector('#df-49924f8d-807a-4028-b2b5-e7c67c9a4edf button.colab-df-convert');\n",
              "        buttonEl.style.display =\n",
              "          google.colab.kernel.accessAllowed ? 'block' : 'none';\n",
              "\n",
              "        async function convertToInteractive(key) {\n",
              "          const element = document.querySelector('#df-49924f8d-807a-4028-b2b5-e7c67c9a4edf');\n",
              "          const dataTable =\n",
              "            await google.colab.kernel.invokeFunction('convertToInteractive',\n",
              "                                                     [key], {});\n",
              "          if (!dataTable) return;\n",
              "\n",
              "          const docLinkHtml = 'Like what you see? Visit the ' +\n",
              "            '<a target=\"_blank\" href=https://colab.research.google.com/notebooks/data_table.ipynb>data table notebook</a>'\n",
              "            + ' to learn more about interactive tables.';\n",
              "          element.innerHTML = '';\n",
              "          dataTable['output_type'] = 'display_data';\n",
              "          await google.colab.output.renderOutput(dataTable, element);\n",
              "          const docLink = document.createElement('div');\n",
              "          docLink.innerHTML = docLinkHtml;\n",
              "          element.appendChild(docLink);\n",
              "        }\n",
              "      </script>\n",
              "    </div>\n",
              "  </div>\n",
              "  "
            ]
          },
          "metadata": {},
          "execution_count": 31
        }
      ]
    },
    {
      "cell_type": "markdown",
      "source": [
        "Recall that a transaction labeled `Debit` meant it was an expense, and `Credit` meant it was a refund. In the `sum` table above, a category's `Debit` column contains the total amount spent in that category, and `Credit` contains the total amount refunded to that category.\n",
        "\n",
        "To determine the final amount, we need to subtract debits from credits.\n",
        "\n",
        "Let’s do some calculations! We’ll add a new column to our table named `Total`, and store the calculation result there."
      ],
      "metadata": {
        "id": "_7HG3zHANENB"
      }
    },
    {
      "cell_type": "code",
      "metadata": {
        "id": "zvOqsb3QMRF8"
      },
      "source": [
        "sum[\"Total\"] = sum[\"Debit\"] - sum[\"Credit\"]"
      ],
      "execution_count": 32,
      "outputs": []
    },
    {
      "cell_type": "markdown",
      "source": [
        "Now let's store our total spending for each category in a new table called `totals`, and take a look.\n",
        "\n"
      ],
      "metadata": {
        "id": "3ssuOjpLNp-N"
      }
    },
    {
      "cell_type": "code",
      "source": [
        "totals = sum[[\"Total\"]]\n",
        "totals"
      ],
      "metadata": {
        "colab": {
          "base_uri": "https://localhost:8080/",
          "height": 520
        },
        "id": "TKeGHiH2NtaR",
        "outputId": "516beffb-e6e0-4eda-c150-63ba9bfc4dab"
      },
      "execution_count": 37,
      "outputs": [
        {
          "output_type": "execute_result",
          "data": {
            "text/plain": [
              "                         Total\n",
              "Category                      \n",
              "Airfare                3313.98\n",
              "Dining                 6586.22\n",
              "Entertainment          1641.27\n",
              "Gas/Automotive          346.06\n",
              "Health Care            2802.38\n",
              "Insurance                23.21\n",
              "Internet                 31.14\n",
              "Lodging                2960.50\n",
              "Merchandise            7693.58\n",
              "Other                  2678.00\n",
              "Other Services          810.07\n",
              "Other Travel           1944.12\n",
              "Phone/Cable             630.28\n",
              "Professional Services   118.00"
            ],
            "text/html": [
              "\n",
              "  <div id=\"df-60699ccf-2fe6-4a51-8ca7-c81219a83e9f\">\n",
              "    <div class=\"colab-df-container\">\n",
              "      <div>\n",
              "<style scoped>\n",
              "    .dataframe tbody tr th:only-of-type {\n",
              "        vertical-align: middle;\n",
              "    }\n",
              "\n",
              "    .dataframe tbody tr th {\n",
              "        vertical-align: top;\n",
              "    }\n",
              "\n",
              "    .dataframe thead th {\n",
              "        text-align: right;\n",
              "    }\n",
              "</style>\n",
              "<table border=\"1\" class=\"dataframe\">\n",
              "  <thead>\n",
              "    <tr style=\"text-align: right;\">\n",
              "      <th></th>\n",
              "      <th>Total</th>\n",
              "    </tr>\n",
              "    <tr>\n",
              "      <th>Category</th>\n",
              "      <th></th>\n",
              "    </tr>\n",
              "  </thead>\n",
              "  <tbody>\n",
              "    <tr>\n",
              "      <th>Airfare</th>\n",
              "      <td>3313.98</td>\n",
              "    </tr>\n",
              "    <tr>\n",
              "      <th>Dining</th>\n",
              "      <td>6586.22</td>\n",
              "    </tr>\n",
              "    <tr>\n",
              "      <th>Entertainment</th>\n",
              "      <td>1641.27</td>\n",
              "    </tr>\n",
              "    <tr>\n",
              "      <th>Gas/Automotive</th>\n",
              "      <td>346.06</td>\n",
              "    </tr>\n",
              "    <tr>\n",
              "      <th>Health Care</th>\n",
              "      <td>2802.38</td>\n",
              "    </tr>\n",
              "    <tr>\n",
              "      <th>Insurance</th>\n",
              "      <td>23.21</td>\n",
              "    </tr>\n",
              "    <tr>\n",
              "      <th>Internet</th>\n",
              "      <td>31.14</td>\n",
              "    </tr>\n",
              "    <tr>\n",
              "      <th>Lodging</th>\n",
              "      <td>2960.50</td>\n",
              "    </tr>\n",
              "    <tr>\n",
              "      <th>Merchandise</th>\n",
              "      <td>7693.58</td>\n",
              "    </tr>\n",
              "    <tr>\n",
              "      <th>Other</th>\n",
              "      <td>2678.00</td>\n",
              "    </tr>\n",
              "    <tr>\n",
              "      <th>Other Services</th>\n",
              "      <td>810.07</td>\n",
              "    </tr>\n",
              "    <tr>\n",
              "      <th>Other Travel</th>\n",
              "      <td>1944.12</td>\n",
              "    </tr>\n",
              "    <tr>\n",
              "      <th>Phone/Cable</th>\n",
              "      <td>630.28</td>\n",
              "    </tr>\n",
              "    <tr>\n",
              "      <th>Professional Services</th>\n",
              "      <td>118.00</td>\n",
              "    </tr>\n",
              "  </tbody>\n",
              "</table>\n",
              "</div>\n",
              "      <button class=\"colab-df-convert\" onclick=\"convertToInteractive('df-60699ccf-2fe6-4a51-8ca7-c81219a83e9f')\"\n",
              "              title=\"Convert this dataframe to an interactive table.\"\n",
              "              style=\"display:none;\">\n",
              "        \n",
              "  <svg xmlns=\"http://www.w3.org/2000/svg\" height=\"24px\"viewBox=\"0 0 24 24\"\n",
              "       width=\"24px\">\n",
              "    <path d=\"M0 0h24v24H0V0z\" fill=\"none\"/>\n",
              "    <path d=\"M18.56 5.44l.94 2.06.94-2.06 2.06-.94-2.06-.94-.94-2.06-.94 2.06-2.06.94zm-11 1L8.5 8.5l.94-2.06 2.06-.94-2.06-.94L8.5 2.5l-.94 2.06-2.06.94zm10 10l.94 2.06.94-2.06 2.06-.94-2.06-.94-.94-2.06-.94 2.06-2.06.94z\"/><path d=\"M17.41 7.96l-1.37-1.37c-.4-.4-.92-.59-1.43-.59-.52 0-1.04.2-1.43.59L10.3 9.45l-7.72 7.72c-.78.78-.78 2.05 0 2.83L4 21.41c.39.39.9.59 1.41.59.51 0 1.02-.2 1.41-.59l7.78-7.78 2.81-2.81c.8-.78.8-2.07 0-2.86zM5.41 20L4 18.59l7.72-7.72 1.47 1.35L5.41 20z\"/>\n",
              "  </svg>\n",
              "      </button>\n",
              "      \n",
              "  <style>\n",
              "    .colab-df-container {\n",
              "      display:flex;\n",
              "      flex-wrap:wrap;\n",
              "      gap: 12px;\n",
              "    }\n",
              "\n",
              "    .colab-df-convert {\n",
              "      background-color: #E8F0FE;\n",
              "      border: none;\n",
              "      border-radius: 50%;\n",
              "      cursor: pointer;\n",
              "      display: none;\n",
              "      fill: #1967D2;\n",
              "      height: 32px;\n",
              "      padding: 0 0 0 0;\n",
              "      width: 32px;\n",
              "    }\n",
              "\n",
              "    .colab-df-convert:hover {\n",
              "      background-color: #E2EBFA;\n",
              "      box-shadow: 0px 1px 2px rgba(60, 64, 67, 0.3), 0px 1px 3px 1px rgba(60, 64, 67, 0.15);\n",
              "      fill: #174EA6;\n",
              "    }\n",
              "\n",
              "    [theme=dark] .colab-df-convert {\n",
              "      background-color: #3B4455;\n",
              "      fill: #D2E3FC;\n",
              "    }\n",
              "\n",
              "    [theme=dark] .colab-df-convert:hover {\n",
              "      background-color: #434B5C;\n",
              "      box-shadow: 0px 1px 3px 1px rgba(0, 0, 0, 0.15);\n",
              "      filter: drop-shadow(0px 1px 2px rgba(0, 0, 0, 0.3));\n",
              "      fill: #FFFFFF;\n",
              "    }\n",
              "  </style>\n",
              "\n",
              "      <script>\n",
              "        const buttonEl =\n",
              "          document.querySelector('#df-60699ccf-2fe6-4a51-8ca7-c81219a83e9f button.colab-df-convert');\n",
              "        buttonEl.style.display =\n",
              "          google.colab.kernel.accessAllowed ? 'block' : 'none';\n",
              "\n",
              "        async function convertToInteractive(key) {\n",
              "          const element = document.querySelector('#df-60699ccf-2fe6-4a51-8ca7-c81219a83e9f');\n",
              "          const dataTable =\n",
              "            await google.colab.kernel.invokeFunction('convertToInteractive',\n",
              "                                                     [key], {});\n",
              "          if (!dataTable) return;\n",
              "\n",
              "          const docLinkHtml = 'Like what you see? Visit the ' +\n",
              "            '<a target=\"_blank\" href=https://colab.research.google.com/notebooks/data_table.ipynb>data table notebook</a>'\n",
              "            + ' to learn more about interactive tables.';\n",
              "          element.innerHTML = '';\n",
              "          dataTable['output_type'] = 'display_data';\n",
              "          await google.colab.output.renderOutput(dataTable, element);\n",
              "          const docLink = document.createElement('div');\n",
              "          docLink.innerHTML = docLinkHtml;\n",
              "          element.appendChild(docLink);\n",
              "        }\n",
              "      </script>\n",
              "    </div>\n",
              "  </div>\n",
              "  "
            ]
          },
          "metadata": {},
          "execution_count": 37
        }
      ]
    },
    {
      "cell_type": "markdown",
      "source": [
        "In order to easily see where I spent the most money, let’s sort our table in descending order and plot it.\n",
        "\n",
        "`totals.plot.bar` creates a bar plot from the `totals` table. The `rot` field specifies the angle at which to display the x-axis labels. `figsize` specifies the figure size."
      ],
      "metadata": {
        "id": "mXVFiV80OomT"
      }
    },
    {
      "cell_type": "code",
      "metadata": {
        "id": "IdrpNrAGOIiE",
        "colab": {
          "base_uri": "https://localhost:8080/",
          "height": 262
        },
        "outputId": "16b03119-fe80-4e52-d8f1-73130e44d7b9"
      },
      "source": [
        "totals = totals.sort_values(by=[\"Total\"], ascending=False)\n",
        "ax = totals.plot.bar(rot=45, figsize=(20,5))"
      ],
      "execution_count": 54,
      "outputs": [
        {
          "output_type": "display_data",
          "data": {
            "text/plain": [
              "<Figure size 1440x360 with 1 Axes>"
            ],
            "image/png": "[encoded data removed]"
          },
          "metadata": {
            "needs_background": "light"
          }
        }
      ]
    },
    {
      "cell_type": "markdown",
      "source": [
        "It looks like one of the categories I spent the most money in was dining. This makes sense. In 2019, I lived in New York City and rarely cooked at home. As a result, I splurged a *lot* on dining out.\n",
        "\n",
        "Let's take a deeper look at the `Dining` category, shall we?"
      ],
      "metadata": {
        "id": "YgA4m003YYlY"
      }
    },
    {
      "cell_type": "markdown",
      "metadata": {
        "id": "ECOcd3r7wRFR"
      },
      "source": [
        "# Breakdown of Dining"
      ]
    },
    {
      "cell_type": "markdown",
      "source": [
        "First, let's go back to our original `transactions` table. We only care about transactions in the `Dining` category, so let's store these in a separate table."
      ],
      "metadata": {
        "id": "s6eQx2rGYxpg"
      }
    },
    {
      "cell_type": "code",
      "metadata": {
        "id": "tOeAX-46tLum"
      },
      "source": [
        "dining = transactions.loc[transactions['Category'] == 'Dining']"
      ],
      "execution_count": 60,
      "outputs": []
    },
    {
      "cell_type": "markdown",
      "source": [
        "Next, let's group transactions by `Description` column. Recall that this column contains the merchant name, so we are basically grouping all transactions by restaurant.\n",
        "\n",
        "We'll store the results in a new table called `dining_sum`."
      ],
      "metadata": {
        "id": "WaiV5mwHZI9K"
      }
    },
    {
      "cell_type": "code",
      "metadata": {
        "id": "zFn1B_M3tLu-"
      },
      "source": [
        "dining_sum = dining.groupby(['Description']).sum()"
      ],
      "execution_count": 61,
      "outputs": []
    },
    {
      "cell_type": "markdown",
      "source": [
        "Now we'll use the same logic as above to calculate the total spent at each restaurant."
      ],
      "metadata": {
        "id": "65ZdN_ZIZZb1"
      }
    },
    {
      "cell_type": "code",
      "metadata": {
        "id": "YXOsimlxtLvE"
      },
      "source": [
        "dining_sum[\"Total\"] = dining_sum[\"Debit\"] - dining_sum[\"Credit\"]\n",
        "dining_totals = dining_sum[[\"Total\"]]"
      ],
      "execution_count": 62,
      "outputs": []
    },
    {
      "cell_type": "markdown",
      "source": [
        "Finally we'll sort our table in descending order and plot the top five restaurants where I spent the most money. We can do so using the `nlargest` command."
      ],
      "metadata": {
        "id": "SG7fd6sYZ23K"
      }
    },
    {
      "cell_type": "code",
      "metadata": {
        "id": "iqoNRIZKtLvK",
        "colab": {
          "base_uri": "https://localhost:8080/",
          "height": 273
        },
        "outputId": "09e7e877-23de-4999-9505-ec7556939874"
      },
      "source": [
        "dining_totals = dining_totals.sort_values(by=[\"Total\"], ascending=False)\n",
        "ax = dining_totals.nlargest(5, \"Total\").plot.bar(rot=45, figsize=(20,5))"
      ],
      "execution_count": 64,
      "outputs": [
        {
          "output_type": "display_data",
          "data": {
            "text/plain": [
              "<Figure size 1440x360 with 1 Axes>"
            ],
            "image/png": "[encoded data removed]"
          },
          "metadata": {
            "needs_background": "light"
          }
        }
      ]
    },
    {
      "cell_type": "markdown",
      "metadata": {
        "id": "02SNnZ1UxxWK"
      },
      "source": [
        "It looks like the restaurant where I spent the most money was [HARBS Chelsea](https://goo.gl/maps/WPYSRpfUoRjhDXyp8). I discovered this Japanese cafe near my office one day and it quickly became one of my go-to places. I spent many enjoyable afternoons there drinking tea, eating cake, and catching up with friends.\n",
        "\n",
        "The other restaurants in the list also bring up many fond memories for me. I highly recommend them to anyone visiting New York City:\n",
        "\n",
        "2. [Sobaya](https://goo.gl/maps/jWSrS8mYSesGTGT2A): An East-Village restaurant specializing in homemade soba noodles and authentic Japanese dishes.\n",
        "3. [Hunan Slurp](https://goo.gl/maps/wnxe8uYSHYjfAnxn7): A Chinese restaurant with good ambience and lots of delicious spicy dishes. Also located in East Village.\n",
        "4. [Soba Totto](https://goo.gl/maps/cZpaNf7VM9aZzs5M8): Another soba restaurant located in Midtown.\n",
        "5. [BCD Tofu House](https://goo.gl/maps/VibDhrNXM1PMSXBE6): My favorite spot for late-night tofu soup and barley tea. Located in Koreatown."
      ]
    }
  ]
}